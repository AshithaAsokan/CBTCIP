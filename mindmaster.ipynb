{
 "cells": [
  {
   "cell_type": "code",
   "execution_count": 1,
   "id": "615e43f4",
   "metadata": {},
   "outputs": [
    {
     "data": {
      "application/vnd.jupyter.widget-view+json": {
       "model_id": "b1b403b006b042529e948cc461bf60e3",
       "version_major": 2,
       "version_minor": 0
      },
      "text/plain": [
       "Button(description='Start Game', style=ButtonStyle())"
      ]
     },
     "metadata": {},
     "output_type": "display_data"
    },
    {
     "data": {
      "application/vnd.jupyter.widget-view+json": {
       "model_id": "df23988efcef4d1a83d4fe5b0d761555",
       "version_major": 2,
       "version_minor": 0
      },
      "text/plain": [
       "Password(description='Enter No.:', layout=Layout(display='none'))"
      ]
     },
     "metadata": {},
     "output_type": "display_data"
    },
    {
     "data": {
      "application/vnd.jupyter.widget-view+json": {
       "model_id": "5236af8672134bfb9dc5e576b1c7f3e2",
       "version_major": 2,
       "version_minor": 0
      },
      "text/plain": [
       "Button(description='Confirm Number', layout=Layout(display='none'), style=ButtonStyle())"
      ]
     },
     "metadata": {},
     "output_type": "display_data"
    },
    {
     "data": {
      "application/vnd.jupyter.widget-view+json": {
       "model_id": "8698360c77e644e39b7e77a909d5f674",
       "version_major": 2,
       "version_minor": 0
      },
      "text/plain": [
       "IntText(value=0, description='Guess No.:', layout=Layout(display='none'))"
      ]
     },
     "metadata": {},
     "output_type": "display_data"
    },
    {
     "data": {
      "application/vnd.jupyter.widget-view+json": {
       "model_id": "bbe51626007e4b408ee506573ac509b0",
       "version_major": 2,
       "version_minor": 0
      },
      "text/plain": [
       "Button(description='Confirm Guess', layout=Layout(display='none'), style=ButtonStyle())"
      ]
     },
     "metadata": {},
     "output_type": "display_data"
    },
    {
     "data": {
      "application/vnd.jupyter.widget-view+json": {
       "model_id": "cc57feb3624c47b8b12f159d51170f3d",
       "version_major": 2,
       "version_minor": 0
      },
      "text/plain": [
       "Output()"
      ]
     },
     "metadata": {},
     "output_type": "display_data"
    }
   ],
   "source": [
    "#Mind Master Game\n",
    "\n",
    "import ipywidgets as widgets\n",
    "from IPython.display import display,clear_output\n",
    "import random\n",
    "\n",
    "#global variables to hod game state\n",
    "game_started=False\n",
    "current_player=None\n",
    "hidden_number=None\n",
    "guesses={1:0,2:0}\n",
    "round_count=0\n",
    "\n",
    "#widgets\n",
    "start_button=widgets.Button(description='Start Game')\n",
    "number_input=widgets.Password(description='Enter No.:')\n",
    "number_confirm_button=widgets.Button(description='Confirm Number')\n",
    "guess_input=widgets.IntText(description='Guess No.:')\n",
    "guess_confirm_button=widgets.Button(description='Confirm Guess')\n",
    "result_output=widgets.Output()\n",
    "\n",
    "\n",
    "#Event handlers \n",
    "def start_game(button):\n",
    "    global game_started,current_player,round_count,guesses\n",
    "    game_started=True\n",
    "    round_count=0\n",
    "    guesses={1:0,2:0}\n",
    "    current_player=random.choice([1,2])\n",
    "    with result_output:\n",
    "        clear_output()\n",
    "        print(f'Player {current_player} starts and enter the number')\n",
    "    number_input.layout.display='block'\n",
    "    number_confirm_button.layout.display='block'\n",
    "    guess_input.layout.display='none'\n",
    "    guess_confirm_button.layout.display='none'\n",
    "    \n",
    "def enter_number(button):\n",
    "    global hidden_number,current_player\n",
    "    try:\n",
    "        hidden_number=int(number_input.value)\n",
    "    except ValueError:\n",
    "        with result_output:\n",
    "            clear_output()\n",
    "            print('Please enter a valid number')\n",
    "        return\n",
    "    num_digits=len(str(hidden_number))\n",
    "    with result_output:\n",
    "        clear_output()\n",
    "        print(f'Player {current_player} has entered the number')\n",
    "        print(f'The number has {num_digits} digit(s).')\n",
    "        print(f'Player {3 -current_player},guess the number.')\n",
    "    number_input.layout.display='none'\n",
    "    number_confirm_button.layout.display='none'\n",
    "    guess_input.layout.display='block'\n",
    "    guess_confirm_button.layout.display='block'\n",
    "    \n",
    "def guess_number(button):\n",
    "    global hidden_number,current_player,guesses,round_count\n",
    "    guess=guess_input.value\n",
    "    guesses[current_player]+=1\n",
    "    hidden_number_str=str(hidden_number)\n",
    "    guess_str=str(guess)\n",
    "    \n",
    "    \n",
    "    same_digits=[hidden_number_str[i] if i < len(guess_str) and hidden_number_str[i] == guess_str[i] else '*' for i in range(len(hidden_number_str))]\n",
    "    \n",
    "    \n",
    "    if guess == hidden_number:\n",
    "        with result_output:\n",
    "            print(f'Player{current_player} gueesed correctly in {guesses[current_player]}')\n",
    "        round_count+=1\n",
    "        if round_count==2:\n",
    "    \n",
    "           display_results()\n",
    "        else:\n",
    "        \n",
    "           swap_players()\n",
    "    else:\n",
    "        with result_output:\n",
    "                  clear_output()\n",
    "                  print(f'Player {3-current_player},guess again')\n",
    "            \n",
    "                  print(f'Player {3- current_player} guessed {guess} ,but its wrong')\n",
    "                  print('Matching digits:'+''.join(same_digits))\n",
    "            \n",
    "def swap_players():\n",
    "                  global current_player,hidden_number\n",
    "                  hidden_number=None\n",
    "                  current_player=3-current_player\n",
    "                  number_input.value=''\n",
    "            \n",
    "                  guess_input.value = 0\n",
    "                  number_input.layout.display='block'\n",
    "                \n",
    "                  number_confirm_button.layout.display='block'\n",
    "                \n",
    "                  guess_input.layout.display='none'\n",
    "            \n",
    "                  guess_confirm_button.layout.display='none'\n",
    "                \n",
    "                  with result_output:\n",
    "                    clear_output()\n",
    "                \n",
    "                  print(f'Player {current_player} turn to enter the number.')\n",
    "            \n",
    "def display_results():\n",
    "                  player1_guesses=guesses[1]\n",
    "                  player2_guesses=guesses[2]\n",
    "                  if player1_guesses < player2_guesses:\n",
    "                      winner = 1\n",
    "                \n",
    "                  elif player2_guesses < player1_guesses:\n",
    "                    winner = 2\n",
    "                \n",
    "                  else:\n",
    "                    winner=None\n",
    "                \n",
    "                  with result_output:\n",
    "                    clear_output()\n",
    "            \n",
    "                  print('Game over')\n",
    "                  print(f'Player1 took {player1_guesses} guesses')\n",
    "            \n",
    "                  print(f'Player2 took {player2_guesses} guesses')\n",
    "                  if winner:\n",
    "            \n",
    "                      print(f'Player {winner} is the winner')\n",
    "                  else:\n",
    "                \n",
    "                      print('Tie!')\n",
    "\n",
    "# setup widgets and display\n",
    "number_confirm_button.on_click(enter_number)\n",
    "guess_confirm_button.on_click(guess_number)\n",
    "start_button.on_click(start_game)\n",
    "\n",
    "number_input.layout.display= 'none'\n",
    "number_confirm_button.layout.display= 'none'\n",
    "guess_input.layout.display ='none'\n",
    "guess_confirm_button.layout.display='none'\n",
    "                  \n",
    "display(start_button,number_input,number_confirm_button,guess_input,guess_confirm_button,result_output)\n",
    "                  \n",
    "    "
   ]
  },
  {
   "cell_type": "code",
   "execution_count": null,
   "id": "12b27484",
   "metadata": {},
   "outputs": [],
   "source": []
  },
  {
   "cell_type": "code",
   "execution_count": null,
   "id": "53997455",
   "metadata": {},
   "outputs": [],
   "source": []
  }
 ],
 "metadata": {
  "kernelspec": {
   "display_name": "Python 3 (ipykernel)",
   "language": "python",
   "name": "python3"
  },
  "language_info": {
   "codemirror_mode": {
    "name": "ipython",
    "version": 3
   },
   "file_extension": ".py",
   "mimetype": "text/x-python",
   "name": "python",
   "nbconvert_exporter": "python",
   "pygments_lexer": "ipython3",
   "version": "3.10.9"
  }
 },
 "nbformat": 4,
 "nbformat_minor": 5
}
